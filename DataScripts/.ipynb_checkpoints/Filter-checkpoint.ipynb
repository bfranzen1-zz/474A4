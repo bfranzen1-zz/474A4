{
 "cells": [
  {
   "cell_type": "code",
   "execution_count": 9,
   "metadata": {},
   "outputs": [],
   "source": [
    "import pandas as pd\n",
    "import csv\n",
    "# Load the data\n",
    "fert = pd.read_csv('../data/fertility_rates.csv')\n",
    "life = pd.read_csv('../data/life_expectancy.csv')\n",
    "pop = pd.read_csv('../data/population.csv')"
   ]
  },
  {
   "cell_type": "code",
   "execution_count": 10,
   "metadata": {},
   "outputs": [],
   "source": [
    "# filter life expectancies by total life expectancy b/w male/female\n",
    "f_life = life[life[\"SUBJECT\"] == \"TOT\"]\n",
    "\n",
    "# filter populations on total b/w male/female and use 'MLN_PER' measurement\n",
    "f_pop = pop[(pop[\"MEASURE\"] == \"MLN_PER\") & (pop[\"SUBJECT\"] == \"TOT\")]\n",
    "\n",
    "# merge csv files on location and time columns, add values from each file to corresponding row\n",
    "res = f_life[[\"LOCATION\", \"TIME\",\"Value\"]] \\\n",
    "    .merge(fert[[\"LOCATION\", \"TIME\", \"Value\"]], on=[\"TIME\", \"LOCATION\"], how=\"outer\") \\\n",
    "    .merge(f_pop[[\"LOCATION\", \"TIME\", \"Value\"]])"
   ]
  },
  {
   "cell_type": "code",
   "execution_count": 11,
   "metadata": {},
   "outputs": [],
   "source": [
    "# remove duplicate rows and rows that contain NaN values\n",
    "res = res.dropna()\n",
    "res = res.drop_duplicates(keep=False)\n",
    "\n",
    "# rename dataframe columns\n",
    "res = res.rename(index=str, \\\n",
    "                   columns={\"LOCATION\": \"location\", \"TIME\": \"time\", \\\n",
    "                                       \"Value_x\": \"life_expectancy\", \"Value_y\": \"fertility_rate\", \"Value\": \"pop_mlns\"})\n",
    "\n",
    "# round column data based on csv given to us\n",
    "res.life_expectancy = res.life_expectancy.round(1)\n",
    "res.pop_mlns = res.pop_mlns.round(5)"
   ]
  },
  {
   "cell_type": "code",
   "execution_count": 12,
   "metadata": {},
   "outputs": [],
   "source": [
    "# export generated csv file to local data folder\n",
    "res.to_csv('../data/DataPy.csv', index=False, quoting=csv.QUOTE_NONNUMERIC)"
   ]
  }
 ],
 "metadata": {
  "kernelspec": {
   "display_name": "Python 3",
   "language": "python",
   "name": "python3"
  },
  "language_info": {
   "codemirror_mode": {
    "name": "ipython",
    "version": 3
   },
   "file_extension": ".py",
   "mimetype": "text/x-python",
   "name": "python",
   "nbconvert_exporter": "python",
   "pygments_lexer": "ipython3",
   "version": "3.7.0"
  }
 },
 "nbformat": 4,
 "nbformat_minor": 2
}
